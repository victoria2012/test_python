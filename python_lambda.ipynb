{
  "nbformat": 4,
  "nbformat_minor": 0,
  "metadata": {
    "colab": {
      "name": "python_lambda.ipynb",
      "provenance": [],
      "collapsed_sections": [],
      "authorship_tag": "ABX9TyNfD72WHzbG8lq3zgFEo1x2"
    },
    "kernelspec": {
      "name": "python3",
      "display_name": "Python 3"
    },
    "language_info": {
      "name": "python"
    }
  },
  "cells": [
    {
      "cell_type": "code",
      "metadata": {
        "colab": {
          "base_uri": "https://localhost:8080/"
        },
        "id": "u8Udn_nQcl-s",
        "outputId": "d74e2421-04bc-4af1-f47a-9de26a54c1a8"
      },
      "source": [
        "(lambda first : first + 20)(10)    # 콜론의 왼쪽은 선언, 오른쪽은 사용하는 부분임. first가 파라미터임."
      ],
      "execution_count": 5,
      "outputs": [
        {
          "output_type": "execute_result",
          "data": {
            "text/plain": [
              "30"
            ]
          },
          "metadata": {
            "tags": []
          },
          "execution_count": 5
        }
      ]
    },
    {
      "cell_type": "code",
      "metadata": {
        "id": "FAm80WrnfvV6"
      },
      "source": [
        "def plus(first01):                 \n",
        "  return first01 + 20              # return은 한 행에서 제일 마지막에 실행된다. 따라서 first01 + 20 ---> return 순으로 실행\n",
        "  # result = first01 + 20\n",
        "  # return result"
      ],
      "execution_count": 18,
      "outputs": []
    },
    {
      "cell_type": "code",
      "metadata": {
        "colab": {
          "base_uri": "https://localhost:8080/"
        },
        "id": "KTVLgLP4gUGj",
        "outputId": "a7ad796c-d63b-4820-b92f-1009538afc63"
      },
      "source": [
        "plus(10), type(plus)"
      ],
      "execution_count": 16,
      "outputs": [
        {
          "output_type": "execute_result",
          "data": {
            "text/plain": [
              "(30, function)"
            ]
          },
          "metadata": {
            "tags": []
          },
          "execution_count": 16
        }
      ]
    },
    {
      "cell_type": "code",
      "metadata": {
        "colab": {
          "base_uri": "https://localhost:8080/"
        },
        "id": "yJ5YqzWEgWyr",
        "outputId": "52a220cc-94e9-4540-af5a-9697d8c25fa2"
      },
      "source": [
        "plus(20)"
      ],
      "execution_count": 12,
      "outputs": [
        {
          "output_type": "execute_result",
          "data": {
            "text/plain": [
              "40"
            ]
          },
          "metadata": {
            "tags": []
          },
          "execution_count": 12
        }
      ]
    },
    {
      "cell_type": "code",
      "metadata": {
        "id": "X4xN_SMehE2b"
      },
      "source": [
        "plus_02 = (lambda first : first + 20)          #  람다는 변수에 넣어서 함수처럼 사용할 수 있다. 괄호는 해줘도 되고 안해줘도 된다. "
      ],
      "execution_count": 14,
      "outputs": []
    },
    {
      "cell_type": "code",
      "metadata": {
        "colab": {
          "base_uri": "https://localhost:8080/"
        },
        "id": "yE0Zs55Dhkc7",
        "outputId": "466ef6c2-1cbb-4135-c428-f5c910a56fca"
      },
      "source": [
        "type(plus_02)                                   # 위에서 만든 plus_02는 함수다. "
      ],
      "execution_count": 15,
      "outputs": [
        {
          "output_type": "execute_result",
          "data": {
            "text/plain": [
              "function"
            ]
          },
          "metadata": {
            "tags": []
          },
          "execution_count": 15
        }
      ]
    },
    {
      "cell_type": "code",
      "metadata": {
        "colab": {
          "base_uri": "https://localhost:8080/"
        },
        "id": "6cwXyBlHhofS",
        "outputId": "8fd5b915-8f11-4ca6-d301-6ad008afa8a7"
      },
      "source": [
        "plus_02(30)"
      ],
      "execution_count": 17,
      "outputs": [
        {
          "output_type": "execute_result",
          "data": {
            "text/plain": [
              "50"
            ]
          },
          "metadata": {
            "tags": []
          },
          "execution_count": 17
        }
      ]
    },
    {
      "cell_type": "code",
      "metadata": {
        "id": "1q_X2oFxiGcL"
      },
      "source": [
        "def plus(first01, second02):                 \n",
        "  return first01*second + 20  "
      ],
      "execution_count": null,
      "outputs": []
    },
    {
      "cell_type": "code",
      "metadata": {
        "id": "Ko2x7WH9jJn1"
      },
      "source": [
        "(lambda first,second : first * second + 20)(10,3) "
      ],
      "execution_count": null,
      "outputs": []
    }
  ]
}