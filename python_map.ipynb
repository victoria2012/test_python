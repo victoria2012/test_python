{
  "nbformat": 4,
  "nbformat_minor": 0,
  "metadata": {
    "colab": {
      "name": "python_map.ipynb",
      "provenance": [],
      "authorship_tag": "ABX9TyOjM30+RvJd8pESKw+O/Bee"
    },
    "kernelspec": {
      "name": "python3",
      "display_name": "Python 3"
    },
    "language_info": {
      "name": "python"
    }
  },
  "cells": [
    {
      "cell_type": "markdown",
      "metadata": {
        "id": "GsbTeo5cjunl"
      },
      "source": [
        "call back 함수 : 앞의 것이 실행이 되어야 뒤의 것이 실행되는..., 파라미터의 규칙이 있다. 파라미터를 함수의 이름으로 줄 수 있다. "
      ]
    },
    {
      "cell_type": "markdown",
      "metadata": {
        "id": "MfFKkA30kjNj"
      },
      "source": [
        "map은 연산을 편하게 하기 위한 것, 두가지 조건이 필요. function과 값이 필요"
      ]
    },
    {
      "cell_type": "code",
      "metadata": {
        "id": "l5zp488tjfse"
      },
      "source": [
        "def calSquare(num):\n",
        "  result = num * num\n",
        "  return result"
      ],
      "execution_count": 7,
      "outputs": []
    },
    {
      "cell_type": "code",
      "metadata": {
        "id": "dMZ6YjDak9ep"
      },
      "source": [
        "numbers = (1,2)"
      ],
      "execution_count": 17,
      "outputs": []
    },
    {
      "cell_type": "code",
      "metadata": {
        "colab": {
          "base_uri": "https://localhost:8080/"
        },
        "id": "JHWJp4IulFC6",
        "outputId": "7f0606ca-2b7e-4937-e8ff-e44ae00f18e4"
      },
      "source": [
        "result = map(calSquare, numbers)               \n",
        "print(set(result))"
      ],
      "execution_count": 18,
      "outputs": [
        {
          "output_type": "stream",
          "text": [
            "{1, 4}\n"
          ],
          "name": "stdout"
        }
      ]
    },
    {
      "cell_type": "code",
      "metadata": {
        "colab": {
          "base_uri": "https://localhost:8080/"
        },
        "id": "i7HM6DSAlxta",
        "outputId": "7eed6f00-7a84-4222-d231-7b5c5af1a4bd"
      },
      "source": [
        "calSquare(1), calSquare(2)"
      ],
      "execution_count": 19,
      "outputs": [
        {
          "output_type": "execute_result",
          "data": {
            "text/plain": [
              "(1, 4)"
            ]
          },
          "metadata": {
            "tags": []
          },
          "execution_count": 19
        }
      ]
    },
    {
      "cell_type": "code",
      "metadata": {
        "colab": {
          "base_uri": "https://localhost:8080/"
        },
        "id": "2tDb1zbImX_b",
        "outputId": "fc2a18aa-7c7f-4c15-eb9e-aa51404ea1bb"
      },
      "source": [
        "calplus = (lambda first, second : first + second)\n",
        "type(calplus)"
      ],
      "execution_count": 20,
      "outputs": [
        {
          "output_type": "execute_result",
          "data": {
            "text/plain": [
              "function"
            ]
          },
          "metadata": {
            "tags": []
          },
          "execution_count": 20
        }
      ]
    },
    {
      "cell_type": "code",
      "metadata": {
        "id": "cwPaGNqamZpS"
      },
      "source": [
        "number01 = [1,2,3]      # 행의 갯수가 맞아야 한다. \n",
        "number02 = [4,5,6]"
      ],
      "execution_count": 22,
      "outputs": []
    },
    {
      "cell_type": "code",
      "metadata": {
        "colab": {
          "base_uri": "https://localhost:8080/"
        },
        "id": "Jqx_ctt-qsNJ",
        "outputId": "5f9c7fbe-383b-405a-b904-320ceb336743"
      },
      "source": [
        "type(number01), type(number02)"
      ],
      "execution_count": 23,
      "outputs": [
        {
          "output_type": "execute_result",
          "data": {
            "text/plain": [
              "(list, list)"
            ]
          },
          "metadata": {
            "tags": []
          },
          "execution_count": 23
        }
      ]
    },
    {
      "cell_type": "code",
      "metadata": {
        "colab": {
          "base_uri": "https://localhost:8080/"
        },
        "id": "xl7EpY5_q0Qh",
        "outputId": "08ed6fc9-6117-4472-b7d5-9056f6117f67"
      },
      "source": [
        "calplus(number01[0],number02[0])\n",
        "calplus(number01[1],number02[1])\n",
        "calplus(number01[2],number02[2])"
      ],
      "execution_count": 25,
      "outputs": [
        {
          "output_type": "execute_result",
          "data": {
            "text/plain": [
              "9"
            ]
          },
          "metadata": {
            "tags": []
          },
          "execution_count": 25
        }
      ]
    },
    {
      "cell_type": "code",
      "metadata": {
        "colab": {
          "base_uri": "https://localhost:8080/"
        },
        "id": "VER6XPugq3Fx",
        "outputId": "10daef2e-b13f-483c-8b98-b3da25101588"
      },
      "source": [
        "result = map(calplus,number01,number02)          # 내부적으로 for문이 돌고 있는 것\n",
        "list(result)"
      ],
      "execution_count": 26,
      "outputs": [
        {
          "output_type": "execute_result",
          "data": {
            "text/plain": [
              "[5, 7, 9]"
            ]
          },
          "metadata": {
            "tags": []
          },
          "execution_count": 26
        }
      ]
    },
    {
      "cell_type": "code",
      "metadata": {
        "id": "Hyz_0prVq2_h"
      },
      "source": [
        ""
      ],
      "execution_count": 26,
      "outputs": []
    },
    {
      "cell_type": "code",
      "metadata": {
        "id": "GiUg7vzlq2mk"
      },
      "source": [
        ""
      ],
      "execution_count": null,
      "outputs": []
    },
    {
      "cell_type": "code",
      "metadata": {
        "id": "g-yfbgd8q2gi"
      },
      "source": [
        ""
      ],
      "execution_count": null,
      "outputs": []
    },
    {
      "cell_type": "code",
      "metadata": {
        "id": "GhJwBydyq2ZR"
      },
      "source": [
        ""
      ],
      "execution_count": null,
      "outputs": []
    },
    {
      "cell_type": "code",
      "metadata": {
        "id": "Agc0nlRVq2SJ"
      },
      "source": [
        ""
      ],
      "execution_count": null,
      "outputs": []
    },
    {
      "cell_type": "code",
      "metadata": {
        "id": "tfTW89dXq2Ij"
      },
      "source": [
        ""
      ],
      "execution_count": null,
      "outputs": []
    }
  ]
}