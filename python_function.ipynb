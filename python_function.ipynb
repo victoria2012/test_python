{
  "nbformat": 4,
  "nbformat_minor": 0,
  "metadata": {
    "colab": {
      "name": "python_function.ipynb",
      "provenance": [],
      "collapsed_sections": [],
      "authorship_tag": "ABX9TyNFT7t6LbE/c/v1+BvutXeq"
    },
    "kernelspec": {
      "name": "python3",
      "display_name": "Python 3"
    },
    "language_info": {
      "name": "python"
    }
  },
  "cells": [
    {
      "cell_type": "code",
      "metadata": {
        "id": "hlgnSRIxTftP"
      },
      "source": [
        "import numpy as np"
      ],
      "execution_count": null,
      "outputs": []
    },
    {
      "cell_type": "code",
      "metadata": {
        "colab": {
          "base_uri": "https://localhost:8080/",
          "height": 35
        },
        "id": "T0jpp_zFVWH6",
        "outputId": "13ba6939-21af-445e-c50d-a93fb9a80c99"
      },
      "source": [
        "np.__version__         # __는 내장변수를 뜻하는 것임."
      ],
      "execution_count": null,
      "outputs": [
        {
          "output_type": "execute_result",
          "data": {
            "application/vnd.google.colaboratory.intrinsic+json": {
              "type": "string"
            },
            "text/plain": [
              "'1.19.5'"
            ]
          },
          "metadata": {
            "tags": []
          },
          "execution_count": 98
        }
      ]
    },
    {
      "cell_type": "code",
      "metadata": {
        "id": "f1NldsGf2aWc"
      },
      "source": [
        "# def onhotcylinder(cylinders):\n",
        "#   if cylinders == 3:\n",
        "#     cylinder = np.array([1,0,0,0,0])\n",
        "#   elif cylinders == 4:\n",
        "#     cylinder = np.array([0,1,0,0,0])\n",
        "#   elif cylinders == 5:\n",
        "#     cylinder = np.array([0,0,1,0,0])\n",
        "#   elif cylinders == 6:\n",
        "#     cylinder = np.array([0,0,0,1,0])\n",
        "#   else: # 8\n",
        "#     cylinder = np.array([0,0,0,0,1]) \n",
        "#   return cylinder"
      ],
      "execution_count": null,
      "outputs": []
    },
    {
      "cell_type": "code",
      "metadata": {
        "id": "MHkICnvhLOBQ"
      },
      "source": [
        "# def onehotorigin(origin):\n",
        "#   if origin == 1:\n",
        "#     org = np.array([1,0,0])\n",
        "#   elif origin == 2:\n",
        "#     org = np.array([0,1,0])\n",
        "#   else:\n",
        "#     org = np.array([0,0,1])\n",
        "#   return org"
      ],
      "execution_count": null,
      "outputs": []
    },
    {
      "cell_type": "code",
      "metadata": {
        "id": "DRU2Ak4QVrB5"
      },
      "source": [
        "# displacement = 307.9\n",
        "# horsepower = 130.0\n",
        "# weight = 3504.0\n",
        "# accel = 12.0\n",
        "# cylinders = 8\n",
        "# origin = 1\n",
        "\n",
        "# ## if cylinders = 8, origin = 1 ---> onehot encoding\n",
        "# import numpy as np\n",
        "\n",
        "# X_continues = np.array([displacement, horsepower, weight, accel])\n",
        "# # cylinder = np.array([0,0,0,0,1])  # 8\n",
        "# cylinder = onhotcylinder(cylinders)\n",
        "# # org = np.array([1,0,0])  # 1\n",
        "# org = onehotorigin(origin)"
      ],
      "execution_count": null,
      "outputs": []
    },
    {
      "cell_type": "code",
      "metadata": {
        "id": "aHLYyJQj3D7U"
      },
      "source": [
        "# onhotcylinder(4), onhotcylinder(6)"
      ],
      "execution_count": null,
      "outputs": []
    },
    {
      "cell_type": "code",
      "metadata": {
        "colab": {
          "base_uri": "https://localhost:8080/"
        },
        "id": "PEJP3XLOMMgf",
        "outputId": "ccd25485-0268-4259-cc45-3cba2a298ff3"
      },
      "source": [
        "# onehotorigin(2), onehotorigin(3)"
      ],
      "execution_count": null,
      "outputs": [
        {
          "output_type": "execute_result",
          "data": {
            "text/plain": [
              "(array([0, 1, 0]), array([0, 0, 1]))"
            ]
          },
          "metadata": {
            "tags": []
          },
          "execution_count": 104
        }
      ]
    },
    {
      "cell_type": "code",
      "metadata": {
        "colab": {
          "base_uri": "https://localhost:8080/"
        },
        "id": "NytUtn1xXDsh",
        "outputId": "7b108e45-1e24-4117-a3b9-574db2d4c59c"
      },
      "source": [
        "# type(X_continues), type(cylinder), type(org)"
      ],
      "execution_count": null,
      "outputs": [
        {
          "output_type": "execute_result",
          "data": {
            "text/plain": [
              "(numpy.ndarray, numpy.ndarray, numpy.ndarray)"
            ]
          },
          "metadata": {
            "tags": []
          },
          "execution_count": 105
        }
      ]
    },
    {
      "cell_type": "markdown",
      "metadata": {
        "id": "bSj3GKSxX5bJ"
      },
      "source": [
        "numpy.concatenate : numpy 배열들을 하나로 합치는데 이용         api에서 예제를 사용해볼 것   \n",
        "np.concatenate((a, b), axis=None)"
      ]
    },
    {
      "cell_type": "markdown",
      "metadata": {
        "id": "YK-kJPUaXRiN"
      },
      "source": [
        "concatenate 미국식 [kɑnkǽtənèit]  영국식 [kɔn-] 1. [타동사] 사슬같이 잇다; 연쇄시키다;"
      ]
    },
    {
      "cell_type": "code",
      "metadata": {
        "colab": {
          "base_uri": "https://localhost:8080/"
        },
        "id": "NICJ5UuWXT7P",
        "outputId": "2e480447-0641-4f16-e4fc-c11005bc3d1f"
      },
      "source": [
        "# result = np.concatenate((X_continues, cylinder, org), axis=None)                    \n",
        "# result.shape, result"
      ],
      "execution_count": null,
      "outputs": [
        {
          "output_type": "execute_result",
          "data": {
            "text/plain": [
              "((12,),\n",
              " array([3.079e+02, 1.300e+02, 3.504e+03, 1.200e+01, 0.000e+00, 0.000e+00,\n",
              "        0.000e+00, 0.000e+00, 1.000e+00, 1.000e+00, 0.000e+00, 0.000e+00]))"
            ]
          },
          "metadata": {
            "tags": []
          },
          "execution_count": 106
        }
      ]
    },
    {
      "cell_type": "markdown",
      "metadata": {
        "id": "1qRMKPB4Zcpx"
      },
      "source": [
        "e : 승수를 뜻함  +02 는 *100, +03은 *1000, +01은 *10을 뜻함\n",
        "\n",
        "[307.0, 130.0, 3504.0, 12.0, 0,0,0,0,1,1,0,0 ] 과 같음\n",
        "행열의 구조로 넣어주어야 함. (1,12)형태로... 그래서 reshape을 쓴다. "
      ]
    },
    {
      "cell_type": "code",
      "metadata": {
        "id": "pu6tYCuUZHr5"
      },
      "source": [
        "#  result.reshape(1,12), result.size"
      ],
      "execution_count": null,
      "outputs": []
    },
    {
      "cell_type": "markdown",
      "metadata": {
        "id": "XutWansKbILB"
      },
      "source": [
        "result = reshape(-1, result.size) 도 같은 결과를 가져올 수 있다. (소프트코딩 방법) <br> -1은 자기 연산을 뜻함."
      ]
    },
    {
      "cell_type": "code",
      "metadata": {
        "colab": {
          "base_uri": "https://localhost:8080/"
        },
        "id": "Z6WqTjYJa_vv",
        "outputId": "b51fd24d-4e56-41c8-fd5d-a612cf7d60dc"
      },
      "source": [
        "# result"
      ],
      "execution_count": null,
      "outputs": [
        {
          "output_type": "execute_result",
          "data": {
            "text/plain": [
              "array([3.079e+02, 1.300e+02, 3.504e+03, 1.200e+01, 0.000e+00, 0.000e+00,\n",
              "       0.000e+00, 0.000e+00, 1.000e+00, 1.000e+00, 0.000e+00, 0.000e+00])"
            ]
          },
          "metadata": {
            "tags": []
          },
          "execution_count": 107
        }
      ]
    },
    {
      "cell_type": "code",
      "metadata": {
        "id": "jrWTWDZhOayA"
      },
      "source": [
        "# def concana(X_continues, cylinder, org):\n",
        "#     con = np.concatenate((X_continues, cylinder, org), axis=None)\n",
        "#     result = con.reshape(1,12)\n",
        "#     return result"
      ],
      "execution_count": null,
      "outputs": []
    },
    {
      "cell_type": "code",
      "metadata": {
        "colab": {
          "base_uri": "https://localhost:8080/"
        },
        "id": "SklERAUvOc1O",
        "outputId": "09f44a98-9b75-445e-a7e0-ec56836b8b8b"
      },
      "source": [
        "# result"
      ],
      "execution_count": null,
      "outputs": [
        {
          "output_type": "execute_result",
          "data": {
            "text/plain": [
              "array([3.079e+02, 1.300e+02, 3.504e+03, 1.200e+01, 0.000e+00, 0.000e+00,\n",
              "       0.000e+00, 0.000e+00, 1.000e+00, 1.000e+00, 0.000e+00, 0.000e+00])"
            ]
          },
          "metadata": {
            "tags": []
          },
          "execution_count": 109
        }
      ]
    },
    {
      "cell_type": "markdown",
      "metadata": {
        "id": "wxe0s0gdipK_"
      },
      "source": [
        "# function 이해"
      ]
    },
    {
      "cell_type": "code",
      "metadata": {
        "id": "DpPEZ1bFhe5n"
      },
      "source": [
        "# function은 공통적인 것을 묶는 것 --> 반복적인 작업의 기능화"
      ],
      "execution_count": null,
      "outputs": []
    },
    {
      "cell_type": "code",
      "metadata": {
        "id": "zzKNQhU1ixCM"
      },
      "source": [
        "21 + 14"
      ],
      "execution_count": null,
      "outputs": []
    },
    {
      "cell_type": "code",
      "metadata": {
        "id": "KWhoP4fLi2L_"
      },
      "source": [
        "32 + 45"
      ],
      "execution_count": null,
      "outputs": []
    },
    {
      "cell_type": "code",
      "metadata": {
        "id": "61lDejkni4JP"
      },
      "source": [
        "def sum():\n",
        "  first = 32\n",
        "  second = 45\n",
        "  result = first + second\n",
        "  return result"
      ],
      "execution_count": null,
      "outputs": []
    },
    {
      "cell_type": "code",
      "metadata": {
        "id": "cjP03oA4jDPW"
      },
      "source": [
        "def sum(f,s):      # 함수의 외부에선 순서가 중요하고 내부에서는 이름이 중요하다. \n",
        "  first = s\n",
        "  second = f\n",
        "  result = first + second\n",
        "  return result, first, second"
      ],
      "execution_count": null,
      "outputs": []
    },
    {
      "cell_type": "code",
      "metadata": {
        "id": "fgYcrvc-ltge"
      },
      "source": [
        "sum(4,5), sum(3,2), sum(21,564)"
      ],
      "execution_count": null,
      "outputs": []
    },
    {
      "cell_type": "code",
      "metadata": {
        "id": "VjcUU8h5wMP8"
      },
      "source": [
        "r01,r02,r03 = sum(23, 2)\n",
        "print(r01,r02)"
      ],
      "execution_count": null,
      "outputs": []
    },
    {
      "cell_type": "code",
      "metadata": {
        "id": "5_OifApGpBF1"
      },
      "source": [
        "21 * 32 * 2"
      ],
      "execution_count": null,
      "outputs": []
    },
    {
      "cell_type": "code",
      "metadata": {
        "id": "MeM5nmLxtWDq"
      },
      "source": [
        "31 * 63 * 41"
      ],
      "execution_count": null,
      "outputs": []
    },
    {
      "cell_type": "code",
      "metadata": {
        "id": "UnJyIKCJtYD9"
      },
      "source": [
        "def multi(x,y,z):\n",
        "  result = x * y * z\n",
        "  return result"
      ],
      "execution_count": null,
      "outputs": []
    },
    {
      "cell_type": "code",
      "metadata": {
        "id": "DB1zyqsstqSE"
      },
      "source": [
        "multi(21,32,2), multi(31,63,41)"
      ],
      "execution_count": null,
      "outputs": []
    },
    {
      "cell_type": "code",
      "metadata": {
        "id": "W9CokXNzxur8"
      },
      "source": [
        "# def differenceVars(*var01, **args02)\n",
        "def diffparam(*var_list, **var_dict):           # 파라미터가 list일 경우 *, dictionary일 경우 **를 쓴다. 요즘 많이 쓰고 있다. \n",
        "  print(var_dict)\n",
        "  result01 = len(var_list)\n",
        "  return result01"
      ],
      "execution_count": null,
      "outputs": []
    },
    {
      "cell_type": "code",
      "metadata": {
        "id": "HYLsx4TLzKqt"
      },
      "source": [
        "diffparam(1,2,3, a=2,b=3)"
      ],
      "execution_count": null,
      "outputs": []
    },
    {
      "cell_type": "code",
      "metadata": {
        "id": "mGAhTCj8zVXp"
      },
      "source": [
        "diffparam(1,2,3,5,6, d=6,a=2,b=3,c=5)"
      ],
      "execution_count": null,
      "outputs": []
    },
    {
      "cell_type": "code",
      "metadata": {
        "id": "4pSBeIlZz8rd"
      },
      "source": [
        ""
      ],
      "execution_count": null,
      "outputs": []
    }
  ]
}