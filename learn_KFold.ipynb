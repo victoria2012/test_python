{
  "nbformat": 4,
  "nbformat_minor": 0,
  "metadata": {
    "colab": {
      "name": "learn_KFold.ipynb",
      "provenance": [],
      "authorship_tag": "ABX9TyOW0IW7kYm1fBbLI50VJ5EX"
    },
    "kernelspec": {
      "name": "python3",
      "display_name": "Python 3"
    },
    "language_info": {
      "name": "python"
    }
  },
  "cells": [
    {
      "cell_type": "markdown",
      "metadata": {
        "id": "f6iT9Pud0_D-"
      },
      "source": [
        "class sklearn.model_selection.KFold(n_splits=5, *, shuffle=False, random_state=None)"
      ]
    },
    {
      "cell_type": "code",
      "metadata": {
        "id": "ED1zJ-V3zvm3"
      },
      "source": [
        "import numpy as np"
      ],
      "execution_count": 15,
      "outputs": []
    },
    {
      "cell_type": "code",
      "metadata": {
        "id": "Rz5vDpN_z-D9"
      },
      "source": [
        "X = np.array([[1, 2], [3, 4], [1, 2], [3, 4], [5, 6], [7, 8], [9, 0]])\n",
        "y = np.array([1, 2, 3, 4, 2, 3, 1])"
      ],
      "execution_count": 19,
      "outputs": []
    },
    {
      "cell_type": "code",
      "metadata": {
        "colab": {
          "base_uri": "https://localhost:8080/"
        },
        "id": "djfk65nt0AZm",
        "outputId": "bed924a0-baee-4a49-e632-73bdfec0d79e"
      },
      "source": [
        "X.shape, y.shape"
      ],
      "execution_count": 20,
      "outputs": [
        {
          "output_type": "execute_result",
          "data": {
            "text/plain": [
              "((7, 2), (7,))"
            ]
          },
          "metadata": {
            "tags": []
          },
          "execution_count": 20
        }
      ]
    },
    {
      "cell_type": "code",
      "metadata": {
        "id": "An4cjVb00GhN"
      },
      "source": [
        "from sklearn.model_selection import KFold"
      ],
      "execution_count": 21,
      "outputs": []
    },
    {
      "cell_type": "code",
      "metadata": {
        "id": "GjLsuBAe0vrN"
      },
      "source": [
        "kf = KFold(n_splits=2, shuffle=True)"
      ],
      "execution_count": 23,
      "outputs": []
    },
    {
      "cell_type": "code",
      "metadata": {
        "colab": {
          "base_uri": "https://localhost:8080/"
        },
        "id": "0JvIYBZ01Ihe",
        "outputId": "6f9d245a-2bd4-4a9b-c1fb-efb6c3273ab4"
      },
      "source": [
        "kf.get_n_splits(X)"
      ],
      "execution_count": 24,
      "outputs": [
        {
          "output_type": "execute_result",
          "data": {
            "text/plain": [
              "2"
            ]
          },
          "metadata": {
            "tags": []
          },
          "execution_count": 24
        }
      ]
    },
    {
      "cell_type": "code",
      "metadata": {
        "colab": {
          "base_uri": "https://localhost:8080/"
        },
        "id": "YBhcTSKP1kd0",
        "outputId": "8750786e-c331-4d45-8756-4a4d196e5fe9"
      },
      "source": [
        "for first, second in kf.split(X):\n",
        "  print(first, ' : ', second)"
      ],
      "execution_count": 25,
      "outputs": [
        {
          "output_type": "stream",
          "text": [
            "[2 3 4]  :  [0 1 5 6]\n",
            "[0 1 5 6]  :  [2 3 4]\n"
          ],
          "name": "stdout"
        }
      ]
    },
    {
      "cell_type": "code",
      "metadata": {
        "id": "UVT5D0iK2PXN"
      },
      "source": [
        "kf = KFold(n_splits=3, shuffle=True)"
      ],
      "execution_count": 26,
      "outputs": []
    },
    {
      "cell_type": "code",
      "metadata": {
        "colab": {
          "base_uri": "https://localhost:8080/"
        },
        "id": "vMNGp6_u22_0",
        "outputId": "2387c437-edb4-4dbc-d395-ae696e38cc91"
      },
      "source": [
        "for first, second in kf.split(X):\n",
        "  print(first, ' : ', second)"
      ],
      "execution_count": 27,
      "outputs": [
        {
          "output_type": "stream",
          "text": [
            "[1 2 3 6]  :  [0 4 5]\n",
            "[0 1 4 5 6]  :  [2 3]\n",
            "[0 2 3 4 5]  :  [1 6]\n"
          ],
          "name": "stdout"
        }
      ]
    },
    {
      "cell_type": "code",
      "metadata": {
        "colab": {
          "base_uri": "https://localhost:8080/"
        },
        "id": "AYnrDGpb25ZM",
        "outputId": "b7a8747d-c1c3-4907-f5f3-1385884feed6"
      },
      "source": [
        "type(first), type(second)          # 리스트나 넘파이는 마스크를 할 수 있다. "
      ],
      "execution_count": 29,
      "outputs": [
        {
          "output_type": "execute_result",
          "data": {
            "text/plain": [
              "(numpy.ndarray, numpy.ndarray)"
            ]
          },
          "metadata": {
            "tags": []
          },
          "execution_count": 29
        }
      ]
    },
    {
      "cell_type": "code",
      "metadata": {
        "colab": {
          "base_uri": "https://localhost:8080/"
        },
        "id": "bqmRuVKE3uU8",
        "outputId": "5aaca799-2849-4446-cac2-32d0179321d5"
      },
      "source": [
        "first.shape, second.shape"
      ],
      "execution_count": 32,
      "outputs": [
        {
          "output_type": "execute_result",
          "data": {
            "text/plain": [
              "((5,), (2,))"
            ]
          },
          "metadata": {
            "tags": []
          },
          "execution_count": 32
        }
      ]
    },
    {
      "cell_type": "code",
      "metadata": {
        "colab": {
          "base_uri": "https://localhost:8080/"
        },
        "id": "q3kMAcDS37ne",
        "outputId": "e7368368-d1ff-49f8-ed2e-c3742dfcaf1d"
      },
      "source": [
        "for first, second in kf.split(X):\n",
        "  print(first, ' : ', second)\n",
        "  x_train = X[first]\n",
        "  print(x_train)\n",
        "  x_test = X[second]\n",
        "  print(x_test)"
      ],
      "execution_count": 36,
      "outputs": [
        {
          "output_type": "stream",
          "text": [
            "[0 4 5 6]  :  [1 2 3]\n",
            "[[1 2]\n",
            " [5 6]\n",
            " [7 8]\n",
            " [9 0]]\n",
            "[[3 4]\n",
            " [1 2]\n",
            " [3 4]]\n",
            "[0 1 2 3 5]  :  [4 6]\n",
            "[[1 2]\n",
            " [3 4]\n",
            " [1 2]\n",
            " [3 4]\n",
            " [7 8]]\n",
            "[[5 6]\n",
            " [9 0]]\n",
            "[1 2 3 4 6]  :  [0 5]\n",
            "[[3 4]\n",
            " [1 2]\n",
            " [3 4]\n",
            " [5 6]\n",
            " [9 0]]\n",
            "[[1 2]\n",
            " [7 8]]\n"
          ],
          "name": "stdout"
        }
      ]
    },
    {
      "cell_type": "code",
      "metadata": {
        "id": "RCHrk-vp4FiF"
      },
      "source": [
        ""
      ],
      "execution_count": null,
      "outputs": []
    },
    {
      "cell_type": "code",
      "metadata": {
        "id": "q0eJUUph4mHW"
      },
      "source": [
        ""
      ],
      "execution_count": null,
      "outputs": []
    }
  ]
}