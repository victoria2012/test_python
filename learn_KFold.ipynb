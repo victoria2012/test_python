{
  "nbformat": 4,
  "nbformat_minor": 0,
  "metadata": {
    "colab": {
      "name": "learn_KFold.ipynb",
      "provenance": [],
      "collapsed_sections": [],
      "authorship_tag": "ABX9TyM8VGaPIdfmNEtApR8n3zUH"
    },
    "kernelspec": {
      "name": "python3",
      "display_name": "Python 3"
    },
    "language_info": {
      "name": "python"
    }
  },
  "cells": [
    {
      "cell_type": "markdown",
      "metadata": {
        "id": "f6iT9Pud0_D-"
      },
      "source": [
        "class sklearn.model_selection.KFold(n_splits=5, *, shuffle=False, random_state=None)"
      ]
    },
    {
      "cell_type": "code",
      "metadata": {
        "id": "ED1zJ-V3zvm3"
      },
      "source": [
        "import numpy as np"
      ],
      "execution_count": 1,
      "outputs": []
    },
    {
      "cell_type": "code",
      "metadata": {
        "id": "Rz5vDpN_z-D9"
      },
      "source": [
        "X = np.array([[1, 2], [3, 4], [1, 2], [3, 4], [5, 6], [7, 8], [9, 0]])\n",
        "y = np.array([1, 2, 3, 4, 2, 3, 1])"
      ],
      "execution_count": 2,
      "outputs": []
    },
    {
      "cell_type": "code",
      "metadata": {
        "colab": {
          "base_uri": "https://localhost:8080/"
        },
        "id": "djfk65nt0AZm",
        "outputId": "fce41665-6578-4d94-c2ab-15b26586a752"
      },
      "source": [
        "X.shape, y.shape"
      ],
      "execution_count": 3,
      "outputs": [
        {
          "output_type": "execute_result",
          "data": {
            "text/plain": [
              "((7, 2), (7,))"
            ]
          },
          "metadata": {
            "tags": []
          },
          "execution_count": 3
        }
      ]
    },
    {
      "cell_type": "code",
      "metadata": {
        "id": "An4cjVb00GhN"
      },
      "source": [
        "from sklearn.model_selection import KFold"
      ],
      "execution_count": 4,
      "outputs": []
    },
    {
      "cell_type": "code",
      "metadata": {
        "id": "GjLsuBAe0vrN"
      },
      "source": [
        "kf = KFold(n_splits=2, shuffle=True)"
      ],
      "execution_count": 16,
      "outputs": []
    },
    {
      "cell_type": "code",
      "metadata": {
        "colab": {
          "base_uri": "https://localhost:8080/"
        },
        "id": "0JvIYBZ01Ihe",
        "outputId": "877ad341-0358-4910-9bcc-dc90374c06fe"
      },
      "source": [
        "kf.get_n_splits(X)"
      ],
      "execution_count": 17,
      "outputs": [
        {
          "output_type": "execute_result",
          "data": {
            "text/plain": [
              "2"
            ]
          },
          "metadata": {
            "tags": []
          },
          "execution_count": 17
        }
      ]
    },
    {
      "cell_type": "code",
      "metadata": {
        "colab": {
          "base_uri": "https://localhost:8080/"
        },
        "id": "YBhcTSKP1kd0",
        "outputId": "6946b6d0-481c-49fa-e183-ede2c67db87a"
      },
      "source": [
        "for first, second in kf.split(X):\n",
        "  print(first, ' : ', second)"
      ],
      "execution_count": 18,
      "outputs": [
        {
          "output_type": "stream",
          "text": [
            "[0 4 6]  :  [1 2 3 5]\n",
            "[1 2 3 5]  :  [0 4 6]\n"
          ],
          "name": "stdout"
        }
      ]
    },
    {
      "cell_type": "code",
      "metadata": {
        "id": "UVT5D0iK2PXN"
      },
      "source": [
        "kf = KFold(n_splits=3, shuffle=True)"
      ],
      "execution_count": 8,
      "outputs": []
    },
    {
      "cell_type": "code",
      "metadata": {
        "colab": {
          "base_uri": "https://localhost:8080/"
        },
        "id": "vMNGp6_u22_0",
        "outputId": "bd4d8317-a9f3-4504-d7b0-e1cb748b78a5"
      },
      "source": [
        "for first, second in kf.split(X):\n",
        "  print(first, ' : ', second)"
      ],
      "execution_count": 9,
      "outputs": [
        {
          "output_type": "stream",
          "text": [
            "[0 2 4 6]  :  [1 3 5]\n",
            "[0 1 2 3 5]  :  [4 6]\n",
            "[1 3 4 5 6]  :  [0 2]\n"
          ],
          "name": "stdout"
        }
      ]
    },
    {
      "cell_type": "markdown",
      "metadata": {
        "id": "lQ2-0sEVJxv4"
      },
      "source": [
        "### 마스킹이란 원하는 조건을 달아서 조건에 맞는 배열요소들만 걸러내는 작업이다.\n",
        "True/False를 반환하는 조건을 인덱스처럼 집어 넣으면 조건의 True 값을 반환하는 원소들만 뽑아낼 수 있다."
      ]
    },
    {
      "cell_type": "code",
      "metadata": {
        "colab": {
          "base_uri": "https://localhost:8080/"
        },
        "id": "AYnrDGpb25ZM",
        "outputId": "d49d6779-92b2-45de-8b7f-12ac2152d528"
      },
      "source": [
        "type(first), type(second)          # 리스트나 넘파이는 마스크를 할 수 있다. "
      ],
      "execution_count": 10,
      "outputs": [
        {
          "output_type": "execute_result",
          "data": {
            "text/plain": [
              "(numpy.ndarray, numpy.ndarray)"
            ]
          },
          "metadata": {
            "tags": []
          },
          "execution_count": 10
        }
      ]
    },
    {
      "cell_type": "code",
      "metadata": {
        "colab": {
          "base_uri": "https://localhost:8080/"
        },
        "id": "bqmRuVKE3uU8",
        "outputId": "f3c4b186-e2e0-41d0-a3a2-85e50c31c6f6"
      },
      "source": [
        "first.shape, second.shape"
      ],
      "execution_count": 11,
      "outputs": [
        {
          "output_type": "execute_result",
          "data": {
            "text/plain": [
              "((5,), (2,))"
            ]
          },
          "metadata": {
            "tags": []
          },
          "execution_count": 11
        }
      ]
    },
    {
      "cell_type": "code",
      "metadata": {
        "colab": {
          "base_uri": "https://localhost:8080/"
        },
        "id": "q3kMAcDS37ne",
        "outputId": "ffaadb7a-e577-4e94-f6ee-ffe89f392cf6"
      },
      "source": [
        "for first, second in kf.split(X):\n",
        "  print(first, ' : ', second)\n",
        "  x_train = X[first]\n",
        "  print(x_train)\n",
        "  x_test = X[second]\n",
        "  print(x_test)"
      ],
      "execution_count": 12,
      "outputs": [
        {
          "output_type": "stream",
          "text": [
            "[0 1 3 4]  :  [2 5 6]\n",
            "[[1 2]\n",
            " [3 4]\n",
            " [3 4]\n",
            " [5 6]]\n",
            "[[1 2]\n",
            " [7 8]\n",
            " [9 0]]\n",
            "[0 2 4 5 6]  :  [1 3]\n",
            "[[1 2]\n",
            " [1 2]\n",
            " [5 6]\n",
            " [7 8]\n",
            " [9 0]]\n",
            "[[3 4]\n",
            " [3 4]]\n",
            "[1 2 3 5 6]  :  [0 4]\n",
            "[[3 4]\n",
            " [1 2]\n",
            " [3 4]\n",
            " [7 8]\n",
            " [9 0]]\n",
            "[[1 2]\n",
            " [5 6]]\n"
          ],
          "name": "stdout"
        }
      ]
    },
    {
      "cell_type": "code",
      "metadata": {
        "id": "RCHrk-vp4FiF"
      },
      "source": [
        ""
      ],
      "execution_count": 12,
      "outputs": []
    },
    {
      "cell_type": "code",
      "metadata": {
        "id": "q0eJUUph4mHW"
      },
      "source": [
        ""
      ],
      "execution_count": 12,
      "outputs": []
    }
  ]
}